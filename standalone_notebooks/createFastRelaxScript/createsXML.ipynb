{
 "cells": [
  {
   "cell_type": "code",
   "execution_count": 3,
   "metadata": {},
   "outputs": [],
   "source": [
    "def get_chain_list(chains):\n",
    "    \"\"\"\n",
    "    Returns a block of single-line <Chain> selectors, e.g.\n",
    "      <Chain name=\"chainA\" chains=\"A\"/>\n",
    "      <Chain name=\"chainB\" chains=\"B\"/>\n",
    "      ...\n",
    "    \"\"\"\n",
    "    return \"\\n\".join(f'\\t\\t<Chain name=\"chain{c}\" chains=\"{c}\"/>' for c in chains)\n",
    "\n",
    "\n",
    "def get_movemap_chains(chains):\n",
    "    \"\"\"\n",
    "    Returns a block of MoveMap <Chain> entries, numbered 1..N in alphabetical order:\n",
    "      <Chain number=\"1\" chi=\"true\" bb=\"true\"/>\n",
    "      <Chain number=\"2\" chi=\"true\" bb=\"true\"/>\n",
    "      ...\n",
    "    \"\"\"\n",
    "    # sort so numbering is consistent\n",
    "    movemap = \"\"\n",
    "    for i, chain in enumerate (chains):\n",
    "        movemap += f'\\t\\t\\t<Chain number=\"{i+1}\" chi=\"true\" bb=\"true\"/>'\n",
    "        movemap += \"\\n\"\n",
    "    return movemap"
   ]
  },
  {
   "cell_type": "code",
   "execution_count": 4,
   "metadata": {},
   "outputs": [
    {
     "name": "stdout",
     "output_type": "stream",
     "text": [
      "Wrote FastRelax_InterfaceAnalysis.xml\n"
     ]
    }
   ],
   "source": [
    "interface=\"A_BC\"\n",
    "repeats=1\n",
    "\n",
    "\n",
    "grp1_name, grp2_name = interface.split(\"_\")\n",
    "chains = list(grp1_name + grp2_name) # ['A','B','C','D']\n",
    "grp1 = \",\".join(grp1_name)\n",
    "grp2 = \",\".join(grp2_name)\n",
    "\n",
    "chain_list      = get_chain_list(chains)\n",
    "movemap_chains  = get_movemap_chains(chains)\n",
    "\n",
    "template_path = \"FastRelax_InterfaceAnalysis_Schema.xml\"\n",
    "with open(\"FastRelax_InterfaceAnalysis_Schema.xml\") as f:\n",
    "    template = f.read()\n",
    "filled_template = template.format(interface=interface, grp1_name=grp1_name, grp2_name=grp2_name, grp1=grp1, grp2=grp2, chain_list=chain_list, movemap_chains=movemap_chains, repeats=repeats)\n",
    "\n",
    "with open(\"FastRelax_InterfaceAnalysis.xml\", \"w\") as f:\n",
    "    f.write(filled_template)\n",
    "\n",
    "print(\"Wrote FastRelax_InterfaceAnalysis.xml\")"
   ]
  }
 ],
 "metadata": {
  "kernelspec": {
   "display_name": "Python 3",
   "language": "python",
   "name": "python3"
  },
  "language_info": {
   "codemirror_mode": {
    "name": "ipython",
    "version": 3
   },
   "file_extension": ".py",
   "mimetype": "text/x-python",
   "name": "python",
   "nbconvert_exporter": "python",
   "pygments_lexer": "ipython3",
   "version": "3.8.18"
  }
 },
 "nbformat": 4,
 "nbformat_minor": 2
}
