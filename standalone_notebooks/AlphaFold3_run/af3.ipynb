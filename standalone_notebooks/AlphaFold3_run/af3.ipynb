{
 "cells": [
  {
   "cell_type": "code",
   "execution_count": 1,
   "metadata": {},
   "outputs": [],
   "source": [
    "import os\n",
    "from AF3_functions import *"
   ]
  },
  {
   "cell_type": "code",
   "execution_count": 2,
   "metadata": {},
   "outputs": [
    {
     "name": "stdout",
     "output_type": "stream",
     "text": [
      "Submitting input_pdbs/8.pdb\n",
      "JsonInputs/8.json json file generated\n",
      "AlphaFold3 job for 8.pdb submitted with Job ID: 24875095\n",
      "Submitted jobs: ['24875095']\n"
     ]
    }
   ],
   "source": [
    "pdb_input_folder = \"input_pdbs\"\n",
    "AF_output_folder = \"AF3_outputs\"\n",
    "json_folder = \"JsonInputs\"\n",
    "slurm_folder = \"SlurmScripts\"\n",
    "dialect=\"alphafold3\" # Usually, stick to this\n",
    "version=1 # Usually, stick to this\n",
    "seeds_number=1\n",
    "predefined_seeds=False\n",
    "predefined_seeds_list=None\n",
    "account=\"ajitj99\"\n",
    "os.makedirs(AF_output_folder, exist_ok=True)\n",
    "os.makedirs(slurm_folder, exist_ok=True)\n",
    "os.makedirs(json_folder, exist_ok=True)\n",
    "\n",
    "job_ids = submit_af3_jobs(pdb_input_folder, AF_output_folder, json_folder, dialect, version, slurm_folder, account, seeds_number, predefined_seeds, predefined_seeds_list)\n",
    "print(f\"Submitted jobs: {job_ids}\")"
   ]
  }
 ],
 "metadata": {
  "kernelspec": {
   "display_name": "Python 3",
   "language": "python",
   "name": "python3"
  },
  "language_info": {
   "codemirror_mode": {
    "name": "ipython",
    "version": 3
   },
   "file_extension": ".py",
   "mimetype": "text/x-python",
   "name": "python",
   "nbconvert_exporter": "python",
   "pygments_lexer": "ipython3",
   "version": "3.12.9"
  }
 },
 "nbformat": 4,
 "nbformat_minor": 2
}
